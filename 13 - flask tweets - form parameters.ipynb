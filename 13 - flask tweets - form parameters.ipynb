{
 "cells": [
  {
   "cell_type": "code",
   "execution_count": 1,
   "metadata": {
    "collapsed": true
   },
   "outputs": [],
   "source": [
    "# import flask\n",
    "import flask"
   ]
  },
  {
   "cell_type": "code",
   "execution_count": 2,
   "metadata": {
    "collapsed": true
   },
   "outputs": [],
   "source": [
    "# python list of tweets\n",
    "tweets = [\"First tweet - Hello, World!\"]"
   ]
  },
  {
   "cell_type": "code",
   "execution_count": 3,
   "metadata": {
    "collapsed": true
   },
   "outputs": [],
   "source": [
    "# html for page\n",
    "html_template = \"\"\"\n",
    "<!DOCTYPE html>\n",
    "<html>\n",
    "  <head>\n",
    "    <title>My Tweet App</title>\n",
    "    <style>\n",
    "    body {background-color: linen; }\n",
    "    body {font-family: Sans-Serif;}\n",
    "    </style>\n",
    "  </head>\n",
    "\n",
    "  <body>\n",
    "  \n",
    "    <h2>Submit a Tweet</h2>\n",
    "    <form action=\"submit\" method=\"post\">\n",
    "    <textarea name=\"content\" cols=\"50\" rows=\"4\"></textarea>\n",
    "    <input type=\"submit\" value=\"submit my tweet\">\n",
    "    </form>\n",
    "    \n",
    "    <h2>Previous Tweets</h2>\n",
    "    XXXX\n",
    "  </body>\n",
    "</html>\n",
    "\"\"\""
   ]
  },
  {
   "cell_type": "code",
   "execution_count": 4,
   "metadata": {
    "collapsed": false
   },
   "outputs": [],
   "source": [
    "#create the application object\n",
    "app = flask.Flask(__name__)"
   ]
  },
  {
   "cell_type": "code",
   "execution_count": 5,
   "metadata": {
    "collapsed": false
   },
   "outputs": [],
   "source": [
    "@app.route('/')\n",
    "def home_page():\n",
    "    # replace XXXX with tweets\n",
    "    html = html_template.replace('XXXX', '<hr><p>'.join(tweets))\n",
    "    return html"
   ]
  },
  {
   "cell_type": "code",
   "execution_count": 6,
   "metadata": {
    "collapsed": false
   },
   "outputs": [],
   "source": [
    "@app.route('/submit', methods = ['POST'])\n",
    "def submit():\n",
    "    tweet = flask.request.form['content']\n",
    "    tweets.append(tweet)\n",
    "    return flask.redirect('/')"
   ]
  },
  {
   "cell_type": "code",
   "execution_count": null,
   "metadata": {
    "collapsed": false
   },
   "outputs": [],
   "source": [
    "app.run()"
   ]
  },
  {
   "cell_type": "code",
   "execution_count": null,
   "metadata": {
    "collapsed": true
   },
   "outputs": [],
   "source": []
  }
 ],
 "metadata": {
  "kernelspec": {
   "display_name": "Python 3",
   "language": "python",
   "name": "python3"
  },
  "language_info": {
   "codemirror_mode": {
    "name": "ipython",
    "version": 3
   },
   "file_extension": ".py",
   "mimetype": "text/x-python",
   "name": "python",
   "nbconvert_exporter": "python",
   "pygments_lexer": "ipython3",
   "version": "3.5.0"
  }
 },
 "nbformat": 4,
 "nbformat_minor": 0
}
