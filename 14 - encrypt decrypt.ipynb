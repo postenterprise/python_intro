{
 "cells": [
  {
   "cell_type": "code",
   "execution_count": 38,
   "metadata": {
    "collapsed": false
   },
   "outputs": [
    {
     "name": "stdout",
     "output_type": "stream",
     "text": [
      "abcdefghijklmnopqrstuvwxyz\n",
      "bcdefghijklmnopqrstuvwxyza\n"
     ]
    }
   ],
   "source": [
    "# a-z, and up one\n",
    "az = \"abcdefghijklmnopqrstuvwxyz\"\n",
    "az_up1 = az[1:] + az[0]\n",
    "\n",
    "print(az)\n",
    "print(az_up1)"
   ]
  },
  {
   "cell_type": "code",
   "execution_count": 39,
   "metadata": {
    "collapsed": false
   },
   "outputs": [],
   "source": [
    "# encrypt a text message\n",
    "\n",
    "def encrypt(plaintext, key):\n",
    "    code = plaintext.lower()\n",
    "    \n",
    "    translation_table = str.maketrans(az, az_up1)\n",
    "    \n",
    "    for x in range(key):\n",
    "        code = code.translate(translation_table)\n",
    "        pass\n",
    "    \n",
    "    return code"
   ]
  },
  {
   "cell_type": "code",
   "execution_count": 40,
   "metadata": {
    "collapsed": true
   },
   "outputs": [],
   "source": [
    "# decrypt text message\n",
    "\n",
    "def decrypt(code, key):\n",
    "    plaintext = code\n",
    "    \n",
    "    translation_table = str.maketrans(az_up1, az)\n",
    "    \n",
    "    for x in range(key):\n",
    "        plaintext = plaintext.translate(translation_table)\n",
    "        pass\n",
    "    \n",
    "    return plaintext"
   ]
  },
  {
   "cell_type": "code",
   "execution_count": 41,
   "metadata": {
    "collapsed": false
   },
   "outputs": [
    {
     "data": {
      "text/plain": [
       "'crrng, bqq'"
      ]
     },
     "execution_count": 41,
     "metadata": {},
     "output_type": "execute_result"
    }
   ],
   "source": [
    "encrypt(\"Apple, zoo\", 2)"
   ]
  },
  {
   "cell_type": "code",
   "execution_count": 42,
   "metadata": {
    "collapsed": false
   },
   "outputs": [
    {
     "data": {
      "text/plain": [
       "'apple, zoo'"
      ]
     },
     "execution_count": 42,
     "metadata": {},
     "output_type": "execute_result"
    }
   ],
   "source": [
    "decrypt('crrng, bqq', 2)"
   ]
  },
  {
   "cell_type": "code",
   "execution_count": null,
   "metadata": {
    "collapsed": true
   },
   "outputs": [],
   "source": []
  }
 ],
 "metadata": {
  "kernelspec": {
   "display_name": "Python 3",
   "language": "python",
   "name": "python3"
  },
  "language_info": {
   "codemirror_mode": {
    "name": "ipython",
    "version": 3
   },
   "file_extension": ".py",
   "mimetype": "text/x-python",
   "name": "python",
   "nbconvert_exporter": "python",
   "pygments_lexer": "ipython3",
   "version": "3.4.3"
  }
 },
 "nbformat": 4,
 "nbformat_minor": 0
}
